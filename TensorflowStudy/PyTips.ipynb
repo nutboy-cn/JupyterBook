{
 "cells": [
  {
   "cell_type": "code",
   "execution_count": 1,
   "id": "6bcfb850",
   "metadata": {},
   "outputs": [
    {
     "name": "stdout",
     "output_type": "stream",
     "text": [
      "dcba\n",
      "dcbadcbadcba\n",
      "[1, 2, 3, 1, 2, 3, 1, 2, 3]\n"
     ]
    }
   ],
   "source": [
    "myString='abcd'\n",
    "mystring2=myString[::-1]\n",
    "print(mystring2)\n",
    "myArray=[1,2,3]\n",
    "print(mystring2*3)\n",
    "print(myArray*3)"
   ]
  },
  {
   "cell_type": "code",
   "execution_count": 2,
   "id": "efa65402",
   "metadata": {},
   "outputs": [
    {
     "name": "stdout",
     "output_type": "stream",
     "text": [
      "I Want To Get A Lot Of Money\n",
      "['i', 'want', 'to', 'get', 'a', 'lot', 'of', 'money']\n",
      "['i want t', ' get a l', 't ', 'f m', 'ney']\n",
      "vxabdce\n"
     ]
    }
   ],
   "source": [
    "myTitle=\"i want to get a lot of money\"\n",
    "print(myTitle.title())\n",
    "print(myTitle.split())\n",
    "print(myTitle.split('o'))\n",
    "repeatStrs=\"aavvbbccddeexaddd\"\n",
    "print(\"\".join(set(repeatStrs)))"
   ]
  },
  {
   "cell_type": "code",
   "execution_count": 3,
   "id": "e8131edc",
   "metadata": {
    "scrolled": true
   },
   "outputs": [
    {
     "name": "stdout",
     "output_type": "stream",
     "text": [
      "i want to get a lot of money\n",
      "[2, 4, 6, 8, 10]\n",
      "2 1\n"
     ]
    }
   ],
   "source": [
    "\n",
    "print(myTitle)\n",
    "myList=[1,2,3,4,5]\n",
    "newList=[2*x for x in myList]\n",
    "print(newList)\n",
    "\n",
    "a=1\n",
    "b=2\n",
    "a,b=b,a\n",
    "print(a,b)\n",
    "\n"
   ]
  },
  {
   "cell_type": "code",
   "execution_count": 4,
   "id": "3d5fc5b8",
   "metadata": {},
   "outputs": [
    {
     "name": "stdout",
     "output_type": "stream",
     "text": [
      "4\n",
      "True\n"
     ]
    }
   ],
   "source": [
    "from collections import Counter\n",
    "myNumberList=[1,1,2,2,3,4,5,6,7,1,2,3,4,1,2,3]\n",
    "count=Counter(myNumberList)\n",
    "print(count[1])\n",
    "str1=\"abcde\"\n",
    "str2=\"bcdea\"\n",
    "str3=\"decab\"\n",
    "print(Counter(str1)==Counter(str2)==Counter(str3))\n"
   ]
  },
  {
   "cell_type": "code",
   "execution_count": 5,
   "id": "2651864e",
   "metadata": {},
   "outputs": [
    {
     "name": "stdout",
     "output_type": "stream",
     "text": [
      "0:a\n",
      "1:b\n",
      "2:c\n",
      "3:d\n"
     ]
    }
   ],
   "source": [
    "my_list=['a','b','c','d']\n",
    "for index ,value in enumerate(my_list):\n",
    "    print('{0}:{1}'.format(index,value))"
   ]
  },
  {
   "cell_type": "code",
   "execution_count": 6,
   "id": "cb177299",
   "metadata": {},
   "outputs": [
    {
     "name": "stdout",
     "output_type": "stream",
     "text": [
      "28\n"
     ]
    }
   ],
   "source": [
    "import sys\n",
    "num=21\n",
    "print(sys.getsizeof(num))"
   ]
  },
  {
   "cell_type": "code",
   "execution_count": 7,
   "id": "96471288",
   "metadata": {},
   "outputs": [
    {
     "name": "stdout",
     "output_type": "stream",
     "text": [
      "{'apple': 9, 'banana': 4, 'orange': 10}\n"
     ]
    }
   ],
   "source": [
    "dict1={'apple':9,'banana':6}\n",
    "dict2={'banana':4,'orange':10}\n",
    "combine_dict={**dict1,**dict2}\n",
    "print(combine_dict)"
   ]
  },
  {
   "cell_type": "code",
   "execution_count": 8,
   "id": "428268b5",
   "metadata": {},
   "outputs": [
    {
     "name": "stdout",
     "output_type": "stream",
     "text": [
      "68.66455078125\n"
     ]
    }
   ],
   "source": [
    "import time\n",
    "start_time=time.time()\n",
    "a,b=1,2\n",
    "c=a+b\n",
    "end_time=time.time()\n",
    "totaltime=(end_time-start_time)*(10**6)\n",
    "print(totaltime)"
   ]
  },
  {
   "cell_type": "code",
   "execution_count": 13,
   "id": "2f0356b1",
   "metadata": {},
   "outputs": [
    {
     "name": "stdout",
     "output_type": "stream",
     "text": [
      "[1, 2, 3, 4]\n"
     ]
    }
   ],
   "source": [
    "from iteration_utilities import deepflatten\n",
    "i=[[1,2,3],[4]]\n",
    "print(list(deepflatten(i,3)))"
   ]
  },
  {
   "cell_type": "code",
   "execution_count": 15,
   "id": "281d5b47",
   "metadata": {},
   "outputs": [
    {
     "name": "stdout",
     "output_type": "stream",
     "text": [
      "[5, 3]\n"
     ]
    }
   ],
   "source": [
    "import random\n",
    "sampleList=[1,2,3,4,5]\n",
    "numSample=2\n",
    "samples=random.sample(sampleList,numSample)\n",
    "print(samples)"
   ]
  },
  {
   "cell_type": "code",
   "execution_count": 18,
   "id": "bbbb3556",
   "metadata": {},
   "outputs": [
    {
     "name": "stdout",
     "output_type": "stream",
     "text": [
      "list has duplicates\n"
     ]
    }
   ],
   "source": [
    "def unique(i):\n",
    "    if len(i)==len(set(i)):\n",
    "        print(\"all elements are unique\")\n",
    "    else:\n",
    "        print(\"list has duplicates\")\n",
    "uniqueSamples=[1,1,1,2,3,4]\n",
    "unique(uniqueSamples)"
   ]
  },
  {
   "cell_type": "code",
   "execution_count": null,
   "id": "a93e660a",
   "metadata": {},
   "outputs": [],
   "source": []
  }
 ],
 "metadata": {
  "kernelspec": {
   "display_name": "Python 3",
   "language": "python",
   "name": "python3"
  },
  "language_info": {
   "codemirror_mode": {
    "name": "ipython",
    "version": 3
   },
   "file_extension": ".py",
   "mimetype": "text/x-python",
   "name": "python",
   "nbconvert_exporter": "python",
   "pygments_lexer": "ipython3",
   "version": "3.8.5"
  }
 },
 "nbformat": 4,
 "nbformat_minor": 5
}
